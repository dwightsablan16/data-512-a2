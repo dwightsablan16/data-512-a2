{
 "cells": [
  {
   "cell_type": "markdown",
   "metadata": {},
   "source": [
    "# <center>DATA 512 Homework 2: Bias in Data</center>\n",
    "<center>Fall 2021</center>\n",
    "<center>Author: Dwight Sablan</center>"
   ]
  },
  {
   "cell_type": "markdown",
   "metadata": {},
   "source": [
    "## Background"
   ]
  },
  {
   "cell_type": "markdown",
   "metadata": {},
   "source": [
    "The goal of this assignment is to explore the concept of bias through data on Wikipedia articles - specifically, articles on political figures from a variety of countries. I will combine a dataset of Wikipedia articles with a dataset of country populations, and use a machine learning service called ORES to estimate the quality of each article. I perform an analysis of how the coverage of politicians on Wikipedia and the quality of articles about politicians varies between countries. "
   ]
  },
  {
   "cell_type": "markdown",
   "metadata": {},
   "source": [
    "## Step 1: Getting the Article and Population Data"
   ]
  },
  {
   "cell_type": "markdown",
   "metadata": {},
   "source": [
    "The first step is getting the data, which lives in several different places. \n",
    "\n",
    "Dataset 1: The Wikipedia politicians by country dataset can be found on Figshare. We download and unzip the data file named page_data.csv.\n",
    "\n",
    "Dataset 2: The population data is available in CSV format as WPDS_2020_data.csv. This dataset is drawn from the world population data sheet published by the Population Reference Bureau."
   ]
  },
  {
   "cell_type": "markdown",
   "metadata": {},
   "source": [
    "IMPORT DEPENDENCIES"
   ]
  },
  {
   "cell_type": "code",
   "execution_count": 170,
   "metadata": {},
   "outputs": [],
   "source": [
    "import pandas as pd\n",
    "import numpy as np\n",
    "\n",
    "import json\n",
    "import requests"
   ]
  },
  {
   "cell_type": "markdown",
   "metadata": {},
   "source": [
    "READ IN THE TWO DATASETS"
   ]
  },
  {
   "cell_type": "code",
   "execution_count": 16,
   "metadata": {},
   "outputs": [
    {
     "data": {
      "text/plain": [
       "(47197, 3)"
      ]
     },
     "metadata": {},
     "output_type": "display_data"
    },
    {
     "data": {
      "text/html": [
       "<div>\n",
       "<style scoped>\n",
       "    .dataframe tbody tr th:only-of-type {\n",
       "        vertical-align: middle;\n",
       "    }\n",
       "\n",
       "    .dataframe tbody tr th {\n",
       "        vertical-align: top;\n",
       "    }\n",
       "\n",
       "    .dataframe thead th {\n",
       "        text-align: right;\n",
       "    }\n",
       "</style>\n",
       "<table border=\"1\" class=\"dataframe\">\n",
       "  <thead>\n",
       "    <tr style=\"text-align: right;\">\n",
       "      <th></th>\n",
       "      <th>page</th>\n",
       "      <th>country</th>\n",
       "      <th>rev_id</th>\n",
       "    </tr>\n",
       "  </thead>\n",
       "  <tbody>\n",
       "    <tr>\n",
       "      <th>0</th>\n",
       "      <td>Template:ZambiaProvincialMinisters</td>\n",
       "      <td>Zambia</td>\n",
       "      <td>235107991</td>\n",
       "    </tr>\n",
       "    <tr>\n",
       "      <th>1</th>\n",
       "      <td>Bir I of Kanem</td>\n",
       "      <td>Chad</td>\n",
       "      <td>355319463</td>\n",
       "    </tr>\n",
       "    <tr>\n",
       "      <th>2</th>\n",
       "      <td>Template:Zimbabwe-politician-stub</td>\n",
       "      <td>Zimbabwe</td>\n",
       "      <td>391862046</td>\n",
       "    </tr>\n",
       "    <tr>\n",
       "      <th>3</th>\n",
       "      <td>Template:Uganda-politician-stub</td>\n",
       "      <td>Uganda</td>\n",
       "      <td>391862070</td>\n",
       "    </tr>\n",
       "    <tr>\n",
       "      <th>4</th>\n",
       "      <td>Template:Namibia-politician-stub</td>\n",
       "      <td>Namibia</td>\n",
       "      <td>391862409</td>\n",
       "    </tr>\n",
       "  </tbody>\n",
       "</table>\n",
       "</div>"
      ],
      "text/plain": [
       "                                 page   country     rev_id\n",
       "0  Template:ZambiaProvincialMinisters    Zambia  235107991\n",
       "1                      Bir I of Kanem      Chad  355319463\n",
       "2   Template:Zimbabwe-politician-stub  Zimbabwe  391862046\n",
       "3     Template:Uganda-politician-stub    Uganda  391862070\n",
       "4    Template:Namibia-politician-stub   Namibia  391862409"
      ]
     },
     "metadata": {},
     "output_type": "display_data"
    }
   ],
   "source": [
    "politician_data = pd.read_csv('page_data.csv')\n",
    "\n",
    "#print dataframe shape\n",
    "display(politician_data.shape)\n",
    "\n",
    "#print first 5 rows\n",
    "display(politician_data.head())"
   ]
  },
  {
   "cell_type": "code",
   "execution_count": 17,
   "metadata": {},
   "outputs": [
    {
     "data": {
      "text/plain": [
       "(234, 6)"
      ]
     },
     "metadata": {},
     "output_type": "display_data"
    },
    {
     "data": {
      "text/html": [
       "<div>\n",
       "<style scoped>\n",
       "    .dataframe tbody tr th:only-of-type {\n",
       "        vertical-align: middle;\n",
       "    }\n",
       "\n",
       "    .dataframe tbody tr th {\n",
       "        vertical-align: top;\n",
       "    }\n",
       "\n",
       "    .dataframe thead th {\n",
       "        text-align: right;\n",
       "    }\n",
       "</style>\n",
       "<table border=\"1\" class=\"dataframe\">\n",
       "  <thead>\n",
       "    <tr style=\"text-align: right;\">\n",
       "      <th></th>\n",
       "      <th>FIPS</th>\n",
       "      <th>Name</th>\n",
       "      <th>Type</th>\n",
       "      <th>TimeFrame</th>\n",
       "      <th>Data (M)</th>\n",
       "      <th>Population</th>\n",
       "    </tr>\n",
       "  </thead>\n",
       "  <tbody>\n",
       "    <tr>\n",
       "      <th>0</th>\n",
       "      <td>WORLD</td>\n",
       "      <td>WORLD</td>\n",
       "      <td>World</td>\n",
       "      <td>2019</td>\n",
       "      <td>7772.850</td>\n",
       "      <td>7772850000</td>\n",
       "    </tr>\n",
       "    <tr>\n",
       "      <th>1</th>\n",
       "      <td>AFRICA</td>\n",
       "      <td>AFRICA</td>\n",
       "      <td>Sub-Region</td>\n",
       "      <td>2019</td>\n",
       "      <td>1337.918</td>\n",
       "      <td>1337918000</td>\n",
       "    </tr>\n",
       "    <tr>\n",
       "      <th>2</th>\n",
       "      <td>NORTHERN AFRICA</td>\n",
       "      <td>NORTHERN AFRICA</td>\n",
       "      <td>Sub-Region</td>\n",
       "      <td>2019</td>\n",
       "      <td>244.344</td>\n",
       "      <td>244344000</td>\n",
       "    </tr>\n",
       "    <tr>\n",
       "      <th>3</th>\n",
       "      <td>DZ</td>\n",
       "      <td>Algeria</td>\n",
       "      <td>Country</td>\n",
       "      <td>2019</td>\n",
       "      <td>44.357</td>\n",
       "      <td>44357000</td>\n",
       "    </tr>\n",
       "    <tr>\n",
       "      <th>4</th>\n",
       "      <td>EG</td>\n",
       "      <td>Egypt</td>\n",
       "      <td>Country</td>\n",
       "      <td>2019</td>\n",
       "      <td>100.803</td>\n",
       "      <td>100803000</td>\n",
       "    </tr>\n",
       "  </tbody>\n",
       "</table>\n",
       "</div>"
      ],
      "text/plain": [
       "              FIPS             Name        Type  TimeFrame  Data (M)  \\\n",
       "0            WORLD            WORLD       World       2019  7772.850   \n",
       "1           AFRICA           AFRICA  Sub-Region       2019  1337.918   \n",
       "2  NORTHERN AFRICA  NORTHERN AFRICA  Sub-Region       2019   244.344   \n",
       "3               DZ          Algeria     Country       2019    44.357   \n",
       "4               EG            Egypt     Country       2019   100.803   \n",
       "\n",
       "   Population  \n",
       "0  7772850000  \n",
       "1  1337918000  \n",
       "2   244344000  \n",
       "3    44357000  \n",
       "4   100803000  "
      ]
     },
     "metadata": {},
     "output_type": "display_data"
    }
   ],
   "source": [
    "population_data = pd.read_csv('WPDS_2020_data.csv')\n",
    "\n",
    "#print dataframe shape\n",
    "display(population_data.shape)\n",
    "\n",
    "#print first five rows\n",
    "display(population_data.head())"
   ]
  },
  {
   "cell_type": "markdown",
   "metadata": {},
   "source": [
    "## Step 2: Cleaning the Data"
   ]
  },
  {
   "cell_type": "markdown",
   "metadata": {},
   "source": [
    "In the politician dataset, filter out the page names that contain the string 'Template' as they won't be needed in the analysis."
   ]
  },
  {
   "cell_type": "code",
   "execution_count": 18,
   "metadata": {},
   "outputs": [
    {
     "data": {
      "text/plain": [
       "(46701, 3)"
      ]
     },
     "metadata": {},
     "output_type": "display_data"
    },
    {
     "data": {
      "text/html": [
       "<div>\n",
       "<style scoped>\n",
       "    .dataframe tbody tr th:only-of-type {\n",
       "        vertical-align: middle;\n",
       "    }\n",
       "\n",
       "    .dataframe tbody tr th {\n",
       "        vertical-align: top;\n",
       "    }\n",
       "\n",
       "    .dataframe thead th {\n",
       "        text-align: right;\n",
       "    }\n",
       "</style>\n",
       "<table border=\"1\" class=\"dataframe\">\n",
       "  <thead>\n",
       "    <tr style=\"text-align: right;\">\n",
       "      <th></th>\n",
       "      <th>page</th>\n",
       "      <th>country</th>\n",
       "      <th>rev_id</th>\n",
       "    </tr>\n",
       "  </thead>\n",
       "  <tbody>\n",
       "    <tr>\n",
       "      <th>1</th>\n",
       "      <td>Bir I of Kanem</td>\n",
       "      <td>Chad</td>\n",
       "      <td>355319463</td>\n",
       "    </tr>\n",
       "    <tr>\n",
       "      <th>10</th>\n",
       "      <td>Information Minister of the Palestinian Nation...</td>\n",
       "      <td>Palestinian Territory</td>\n",
       "      <td>393276188</td>\n",
       "    </tr>\n",
       "    <tr>\n",
       "      <th>12</th>\n",
       "      <td>Yos Por</td>\n",
       "      <td>Cambodia</td>\n",
       "      <td>393822005</td>\n",
       "    </tr>\n",
       "    <tr>\n",
       "      <th>23</th>\n",
       "      <td>Julius Gregr</td>\n",
       "      <td>Czech Republic</td>\n",
       "      <td>395521877</td>\n",
       "    </tr>\n",
       "    <tr>\n",
       "      <th>24</th>\n",
       "      <td>Edvard Gregr</td>\n",
       "      <td>Czech Republic</td>\n",
       "      <td>395526568</td>\n",
       "    </tr>\n",
       "  </tbody>\n",
       "</table>\n",
       "</div>"
      ],
      "text/plain": [
       "                                                 page                country  \\\n",
       "1                                      Bir I of Kanem                   Chad   \n",
       "10  Information Minister of the Palestinian Nation...  Palestinian Territory   \n",
       "12                                            Yos Por               Cambodia   \n",
       "23                                       Julius Gregr         Czech Republic   \n",
       "24                                       Edvard Gregr         Czech Republic   \n",
       "\n",
       "       rev_id  \n",
       "1   355319463  \n",
       "10  393276188  \n",
       "12  393822005  \n",
       "23  395521877  \n",
       "24  395526568  "
      ]
     },
     "metadata": {},
     "output_type": "display_data"
    }
   ],
   "source": [
    "politician_data_cleaned = politician_data[~ politician_data.page.str.contains(\"Template\")]\n",
    "\n",
    "display(politician_data_cleaned.shape)\n",
    "\n",
    "display(politician_data_cleaned.head())"
   ]
  },
  {
   "cell_type": "markdown",
   "metadata": {},
   "source": [
    "In the population dataset, separate cumulative regional population counts and country-level counts.  The regional population rows are denoted with characters in all caps.  Ex: OCEANIA"
   ]
  },
  {
   "cell_type": "code",
   "execution_count": 22,
   "metadata": {},
   "outputs": [
    {
     "data": {
      "text/plain": [
       "(24, 6)"
      ]
     },
     "metadata": {},
     "output_type": "display_data"
    },
    {
     "data": {
      "text/html": [
       "<div>\n",
       "<style scoped>\n",
       "    .dataframe tbody tr th:only-of-type {\n",
       "        vertical-align: middle;\n",
       "    }\n",
       "\n",
       "    .dataframe tbody tr th {\n",
       "        vertical-align: top;\n",
       "    }\n",
       "\n",
       "    .dataframe thead th {\n",
       "        text-align: right;\n",
       "    }\n",
       "</style>\n",
       "<table border=\"1\" class=\"dataframe\">\n",
       "  <thead>\n",
       "    <tr style=\"text-align: right;\">\n",
       "      <th></th>\n",
       "      <th>FIPS</th>\n",
       "      <th>Name</th>\n",
       "      <th>Type</th>\n",
       "      <th>TimeFrame</th>\n",
       "      <th>Data (M)</th>\n",
       "      <th>Population</th>\n",
       "    </tr>\n",
       "  </thead>\n",
       "  <tbody>\n",
       "    <tr>\n",
       "      <th>0</th>\n",
       "      <td>WORLD</td>\n",
       "      <td>WORLD</td>\n",
       "      <td>World</td>\n",
       "      <td>2019</td>\n",
       "      <td>7772.850</td>\n",
       "      <td>7772850000</td>\n",
       "    </tr>\n",
       "    <tr>\n",
       "      <th>1</th>\n",
       "      <td>AFRICA</td>\n",
       "      <td>AFRICA</td>\n",
       "      <td>Sub-Region</td>\n",
       "      <td>2019</td>\n",
       "      <td>1337.918</td>\n",
       "      <td>1337918000</td>\n",
       "    </tr>\n",
       "    <tr>\n",
       "      <th>2</th>\n",
       "      <td>NORTHERN AFRICA</td>\n",
       "      <td>NORTHERN AFRICA</td>\n",
       "      <td>Sub-Region</td>\n",
       "      <td>2019</td>\n",
       "      <td>244.344</td>\n",
       "      <td>244344000</td>\n",
       "    </tr>\n",
       "    <tr>\n",
       "      <th>10</th>\n",
       "      <td>WESTERN AFRICA</td>\n",
       "      <td>WESTERN AFRICA</td>\n",
       "      <td>Sub-Region</td>\n",
       "      <td>2019</td>\n",
       "      <td>401.115</td>\n",
       "      <td>401115000</td>\n",
       "    </tr>\n",
       "    <tr>\n",
       "      <th>27</th>\n",
       "      <td>EASTERN AFRICA</td>\n",
       "      <td>EASTERN AFRICA</td>\n",
       "      <td>Sub-Region</td>\n",
       "      <td>2019</td>\n",
       "      <td>444.970</td>\n",
       "      <td>444970000</td>\n",
       "    </tr>\n",
       "  </tbody>\n",
       "</table>\n",
       "</div>"
      ],
      "text/plain": [
       "               FIPS             Name        Type  TimeFrame  Data (M)  \\\n",
       "0             WORLD            WORLD       World       2019  7772.850   \n",
       "1            AFRICA           AFRICA  Sub-Region       2019  1337.918   \n",
       "2   NORTHERN AFRICA  NORTHERN AFRICA  Sub-Region       2019   244.344   \n",
       "10   WESTERN AFRICA   WESTERN AFRICA  Sub-Region       2019   401.115   \n",
       "27   EASTERN AFRICA   EASTERN AFRICA  Sub-Region       2019   444.970   \n",
       "\n",
       "    Population  \n",
       "0   7772850000  \n",
       "1   1337918000  \n",
       "2    244344000  \n",
       "10   401115000  \n",
       "27   444970000  "
      ]
     },
     "metadata": {},
     "output_type": "display_data"
    }
   ],
   "source": [
    "#apply the isupper function to the Name column\n",
    "regional_population = population_data[population_data['Name'].apply(lambda x: x.isupper())]\n",
    "\n",
    "display(regional_population.shape)\n",
    "\n",
    "display(regional_population.head())"
   ]
  },
  {
   "cell_type": "code",
   "execution_count": 23,
   "metadata": {},
   "outputs": [
    {
     "data": {
      "text/plain": [
       "(210, 6)"
      ]
     },
     "metadata": {},
     "output_type": "display_data"
    },
    {
     "data": {
      "text/html": [
       "<div>\n",
       "<style scoped>\n",
       "    .dataframe tbody tr th:only-of-type {\n",
       "        vertical-align: middle;\n",
       "    }\n",
       "\n",
       "    .dataframe tbody tr th {\n",
       "        vertical-align: top;\n",
       "    }\n",
       "\n",
       "    .dataframe thead th {\n",
       "        text-align: right;\n",
       "    }\n",
       "</style>\n",
       "<table border=\"1\" class=\"dataframe\">\n",
       "  <thead>\n",
       "    <tr style=\"text-align: right;\">\n",
       "      <th></th>\n",
       "      <th>FIPS</th>\n",
       "      <th>Name</th>\n",
       "      <th>Type</th>\n",
       "      <th>TimeFrame</th>\n",
       "      <th>Data (M)</th>\n",
       "      <th>Population</th>\n",
       "    </tr>\n",
       "  </thead>\n",
       "  <tbody>\n",
       "    <tr>\n",
       "      <th>3</th>\n",
       "      <td>DZ</td>\n",
       "      <td>Algeria</td>\n",
       "      <td>Country</td>\n",
       "      <td>2019</td>\n",
       "      <td>44.357</td>\n",
       "      <td>44357000</td>\n",
       "    </tr>\n",
       "    <tr>\n",
       "      <th>4</th>\n",
       "      <td>EG</td>\n",
       "      <td>Egypt</td>\n",
       "      <td>Country</td>\n",
       "      <td>2019</td>\n",
       "      <td>100.803</td>\n",
       "      <td>100803000</td>\n",
       "    </tr>\n",
       "    <tr>\n",
       "      <th>5</th>\n",
       "      <td>LY</td>\n",
       "      <td>Libya</td>\n",
       "      <td>Country</td>\n",
       "      <td>2019</td>\n",
       "      <td>6.891</td>\n",
       "      <td>6891000</td>\n",
       "    </tr>\n",
       "    <tr>\n",
       "      <th>6</th>\n",
       "      <td>MA</td>\n",
       "      <td>Morocco</td>\n",
       "      <td>Country</td>\n",
       "      <td>2019</td>\n",
       "      <td>35.952</td>\n",
       "      <td>35952000</td>\n",
       "    </tr>\n",
       "    <tr>\n",
       "      <th>7</th>\n",
       "      <td>SD</td>\n",
       "      <td>Sudan</td>\n",
       "      <td>Country</td>\n",
       "      <td>2019</td>\n",
       "      <td>43.849</td>\n",
       "      <td>43849000</td>\n",
       "    </tr>\n",
       "  </tbody>\n",
       "</table>\n",
       "</div>"
      ],
      "text/plain": [
       "  FIPS     Name     Type  TimeFrame  Data (M)  Population\n",
       "3   DZ  Algeria  Country       2019    44.357    44357000\n",
       "4   EG    Egypt  Country       2019   100.803   100803000\n",
       "5   LY    Libya  Country       2019     6.891     6891000\n",
       "6   MA  Morocco  Country       2019    35.952    35952000\n",
       "7   SD    Sudan  Country       2019    43.849    43849000"
      ]
     },
     "metadata": {},
     "output_type": "display_data"
    }
   ],
   "source": [
    "#get the inverse of the regional_population dataset to get the country-level populations\n",
    "country_population = population_data[~population_data['Name'].apply(lambda x: x.isupper())]\n",
    "\n",
    "display(country_population.shape)\n",
    "\n",
    "display(country_population.head())"
   ]
  },
  {
   "cell_type": "markdown",
   "metadata": {},
   "source": [
    "## Step 3: Getting Article Quality Predictions"
   ]
  },
  {
   "cell_type": "markdown",
   "metadata": {},
   "source": [
    "Now we need to get the predicted quality scores for each article in the Wikipedia dataset. To do so, we use a using a machine learning system called ORES.  ORES is a machine learning tool that can provide estimates of Wikipedia article quality. \n",
    "\n",
    "The article quality estimates are, from best to worst:\n",
    "- FA - Featured article\n",
    "- GA - Good article\n",
    "- B - B-class article\n",
    "- C - C-class article\n",
    "- Start - Start-class article\n",
    "- Stub - Stub-class article"
   ]
  },
  {
   "cell_type": "markdown",
   "metadata": {},
   "source": [
    "These were learned based on articles in Wikipedia that were peer-reviewed using the Wikipedia content assessment procedures. These quality classes are a sub-set of quality assessment categories developed by Wikipedia editors. For a given rev_id, ORES will assign one of these 6 categories. "
   ]
  },
  {
   "cell_type": "markdown",
   "metadata": {},
   "source": [
    "Use the REST API which provide access to a set of scoring models. This is how we'll get the article preductions."
   ]
  },
  {
   "cell_type": "markdown",
   "metadata": {},
   "source": [
    "SET USER-AGENT AND ENDPOINT TO RETREIVE DATA"
   ]
  },
  {
   "cell_type": "code",
   "execution_count": 132,
   "metadata": {},
   "outputs": [],
   "source": [
    "headers = {\n",
    "    'User-Agent': 'https://github.com/dwightsablan16',\n",
    "    'From': 'sabland@uw.edu'\n",
    "}\n",
    "\n",
    "endpoint = 'https://ores.wikimedia.org/v3/scores/enwiki?models=articlequality&revids={revid}'"
   ]
  },
  {
   "cell_type": "markdown",
   "metadata": {},
   "source": [
    "DEFINE FUNCTION TO CALL API GET SCORES DATA"
   ]
  },
  {
   "cell_type": "code",
   "execution_count": 136,
   "metadata": {},
   "outputs": [],
   "source": [
    "def api_call(endpoint, parameters):\n",
    "    call = requests.get(endpoint.format(**parameters), headers=headers)\n",
    "    response = call.json()\n",
    "    \n",
    "    return response"
   ]
  },
  {
   "cell_type": "markdown",
   "metadata": {},
   "source": [
    "DEFINE FUNCTION TO GET THE PREDICTIONS FOR EACH REV_ID"
   ]
  },
  {
   "cell_type": "code",
   "execution_count": 179,
   "metadata": {},
   "outputs": [],
   "source": [
    "#Create list for predictions\n",
    "predictions_list = []\n",
    "\n",
    "def get_prediction(article_scores):\n",
    "    \n",
    "    for i in article_scores['enwiki']['scores']:\n",
    "        \n",
    "            #if there exists a prediction \n",
    "            if 'score' in article_scores['enwiki']['scores'][i]['articlequality']:\n",
    "                \n",
    "                #get the article quality prediction\n",
    "                article_quality = article_scores['enwiki']['scores'][i]['articlequality']['score']['prediction']\n",
    "                \n",
    "                #add prediction\n",
    "                predictions_list.append(article_quality)\n",
    "                \n",
    "            else :\n",
    "                #Add 'no_pred' for articles with no predictions\n",
    "                predictions_list.append('no_pred')"
   ]
  },
  {
   "cell_type": "markdown",
   "metadata": {},
   "source": [
    "INGEST THE DATA"
   ]
  },
  {
   "cell_type": "code",
   "execution_count": 180,
   "metadata": {},
   "outputs": [],
   "source": [
    "#set initial index\n",
    "begin_point = 0\n",
    "\n",
    "while begin_point < politician_data_cleaned.shape[0]:\n",
    "    \n",
    "    #set intervals of data ingestion\n",
    "    ingest_range = begin_point + 50\n",
    "    \n",
    "    #set end index\n",
    "    end_point = min(ingest_range, politician_data_cleaned.shape[0])\n",
    "    \n",
    "    #set parameters for API\n",
    "    parameters = {'context' : 'enwiki',\n",
    "          'revid'  : '|'.join (str(x) for x in politician_data_cleaned['rev_id'][begin_point:end_point]),\n",
    "          'model' : 'articlequality'\n",
    "          }\n",
    "\n",
    "    #call api to get scores for corresponding indices\n",
    "    scores = api_call(endpoint, parameters)\n",
    "    \n",
    "    #adjust beginning point to get next 50 responses\n",
    "    begin_point = begin_point + 50\n",
    "    \n",
    "    #call function to store prediction value into prediction list\n",
    "    get_prediction(scores)"
   ]
  },
  {
   "cell_type": "code",
   "execution_count": 185,
   "metadata": {},
   "outputs": [
    {
     "name": "stderr",
     "output_type": "stream",
     "text": [
      "<ipython-input-185-a9aac28c8c21>:2: SettingWithCopyWarning: \n",
      "A value is trying to be set on a copy of a slice from a DataFrame.\n",
      "Try using .loc[row_indexer,col_indexer] = value instead\n",
      "\n",
      "See the caveats in the documentation: https://pandas.pydata.org/pandas-docs/stable/user_guide/indexing.html#returning-a-view-versus-a-copy\n",
      "  politician_data_cleaned['prediction'] = predictions_list\n"
     ]
    }
   ],
   "source": [
    "#Add the predictions to the dataframe\n",
    "politician_data_cleaned['prediction'] = predictions_list"
   ]
  },
  {
   "cell_type": "code",
   "execution_count": 188,
   "metadata": {},
   "outputs": [
    {
     "data": {
      "text/html": [
       "<div>\n",
       "<style scoped>\n",
       "    .dataframe tbody tr th:only-of-type {\n",
       "        vertical-align: middle;\n",
       "    }\n",
       "\n",
       "    .dataframe tbody tr th {\n",
       "        vertical-align: top;\n",
       "    }\n",
       "\n",
       "    .dataframe thead th {\n",
       "        text-align: right;\n",
       "    }\n",
       "</style>\n",
       "<table border=\"1\" class=\"dataframe\">\n",
       "  <thead>\n",
       "    <tr style=\"text-align: right;\">\n",
       "      <th></th>\n",
       "      <th>page</th>\n",
       "      <th>country</th>\n",
       "      <th>rev_id</th>\n",
       "      <th>prediction</th>\n",
       "    </tr>\n",
       "  </thead>\n",
       "  <tbody>\n",
       "    <tr>\n",
       "      <th>1</th>\n",
       "      <td>Bir I of Kanem</td>\n",
       "      <td>Chad</td>\n",
       "      <td>355319463</td>\n",
       "      <td>Stub</td>\n",
       "    </tr>\n",
       "    <tr>\n",
       "      <th>10</th>\n",
       "      <td>Information Minister of the Palestinian Nation...</td>\n",
       "      <td>Palestinian Territory</td>\n",
       "      <td>393276188</td>\n",
       "      <td>Stub</td>\n",
       "    </tr>\n",
       "    <tr>\n",
       "      <th>12</th>\n",
       "      <td>Yos Por</td>\n",
       "      <td>Cambodia</td>\n",
       "      <td>393822005</td>\n",
       "      <td>Stub</td>\n",
       "    </tr>\n",
       "    <tr>\n",
       "      <th>23</th>\n",
       "      <td>Julius Gregr</td>\n",
       "      <td>Czech Republic</td>\n",
       "      <td>395521877</td>\n",
       "      <td>Stub</td>\n",
       "    </tr>\n",
       "    <tr>\n",
       "      <th>24</th>\n",
       "      <td>Edvard Gregr</td>\n",
       "      <td>Czech Republic</td>\n",
       "      <td>395526568</td>\n",
       "      <td>Stub</td>\n",
       "    </tr>\n",
       "  </tbody>\n",
       "</table>\n",
       "</div>"
      ],
      "text/plain": [
       "                                                 page                country  \\\n",
       "1                                      Bir I of Kanem                   Chad   \n",
       "10  Information Minister of the Palestinian Nation...  Palestinian Territory   \n",
       "12                                            Yos Por               Cambodia   \n",
       "23                                       Julius Gregr         Czech Republic   \n",
       "24                                       Edvard Gregr         Czech Republic   \n",
       "\n",
       "       rev_id prediction  \n",
       "1   355319463       Stub  \n",
       "10  393276188       Stub  \n",
       "12  393822005       Stub  \n",
       "23  395521877       Stub  \n",
       "24  395526568       Stub  "
      ]
     },
     "execution_count": 188,
     "metadata": {},
     "output_type": "execute_result"
    }
   ],
   "source": [
    "#View politician data frame\n",
    "politician_data_cleaned.head()"
   ]
  },
  {
   "cell_type": "markdown",
   "metadata": {},
   "source": [
    "GET THE PAGES WITH NO PREDICTIONS AND SAVE AS CSV"
   ]
  },
  {
   "cell_type": "code",
   "execution_count": 192,
   "metadata": {},
   "outputs": [],
   "source": [
    "#get all the rev_id's with no prediction\n",
    "no_prediction_data = politician_data_cleaned[politician_data_cleaned.prediction == 'no_pred']\n",
    "\n",
    "#save as csv\n",
    "no_prediction_data.to_csv('no_prediction_data.csv')"
   ]
  },
  {
   "cell_type": "code",
   "execution_count": 302,
   "metadata": {},
   "outputs": [],
   "source": [
    "#remove articles in the dataset where we have no_pred\n",
    "politician_data_cleaned = politician_data_cleaned[politician_data_cleaned.prediction != 'no_pred']"
   ]
  },
  {
   "cell_type": "markdown",
   "metadata": {},
   "source": [
    "## Step 4: Combining the Datasets"
   ]
  },
  {
   "cell_type": "markdown",
   "metadata": {},
   "source": [
    "Some processing of the data will be necessary! In particular, you'll need to - after retrieving and including the ORES data for each article - merge the wikipedia data and population data together. Both have fields containing country names for just that purpose. After merging the data, you'll invariably run into entries which cannot be merged. Either the population dataset does not have an entry for the equivalent Wikipedia country, or vise versa."
   ]
  },
  {
   "cell_type": "code",
   "execution_count": 303,
   "metadata": {},
   "outputs": [],
   "source": [
    "#rename column name 'Name' in country_population dataset to merge on 'country'\n",
    "country_population = country_population.rename(columns={'Name': 'country'})"
   ]
  },
  {
   "cell_type": "markdown",
   "metadata": {},
   "source": [
    "MERGE DATA"
   ]
  },
  {
   "cell_type": "code",
   "execution_count": 329,
   "metadata": {},
   "outputs": [],
   "source": [
    "#data where country is in both datasets\n",
    "merged_data = politician_data_cleaned.merge(country_population, how = 'outer' ,indicator=True).loc[lambda x : x['_merge'] == 'both']\n",
    "\n",
    "#data where country is only in politician dataset\n",
    "left_only_data = politician_data_cleaned.merge(country_population, how = 'outer' ,indicator=True).loc[lambda x : x['_merge'] == 'left_only']\n",
    "\n",
    "#data where country is only in right dataset\n",
    "right_only_data = politician_data_cleaned.merge(country_population, how = 'outer' ,indicator=True).loc[lambda x : x['_merge'] == 'right_only']\n",
    "\n",
    "#aggregate data with no matches\n",
    "no_match_data = left_only_data.append(right_only_data, ignore_index=True)"
   ]
  },
  {
   "cell_type": "markdown",
   "metadata": {},
   "source": [
    "RENAME AND REMOVE UNNECESSARY COLUMNS"
   ]
  },
  {
   "cell_type": "code",
   "execution_count": 330,
   "metadata": {},
   "outputs": [],
   "source": [
    "#rename columns\n",
    "merged_data = merged_data.rename(columns = {'page': 'article_name', 'rev_id': 'revision_id', 'prediction': 'article_quality_est.', 'Population': 'population'})\n",
    "no_match_data = no_match_data.rename(columns = {'page': 'article_name', 'rev_id': 'revision_id', 'prediction': 'article_quality_est.', 'Population': 'population'})"
   ]
  },
  {
   "cell_type": "code",
   "execution_count": 331,
   "metadata": {},
   "outputs": [],
   "source": [
    "#drop columns not needed\n",
    "dropped_cols = ['FIPS', 'Type', 'TimeFrame', 'Data (M)', '_merge']\n",
    "\n",
    "merged_data = merged_data.drop(labels = dropped_cols, axis = 1)\n",
    "\n",
    "no_match_data = no_match_data.drop(labels = dropped_cols, axis = 1)"
   ]
  },
  {
   "cell_type": "markdown",
   "metadata": {},
   "source": [
    "SAVE DATA"
   ]
  },
  {
   "cell_type": "code",
   "execution_count": 332,
   "metadata": {},
   "outputs": [],
   "source": [
    "#save data with matches\n",
    "merged_data.to_csv('wp_wpds_politicians_by_country.csv')\n",
    "\n",
    "#save data with no matches\n",
    "no_match_data.to_csv('wp_wpds_countries-no_match.csv')"
   ]
  },
  {
   "cell_type": "markdown",
   "metadata": {},
   "source": [
    "## Step 5: Analysis"
   ]
  },
  {
   "cell_type": "markdown",
   "metadata": {},
   "source": [
    "The analysis will consist of calculating the proportion (as a percentage) of articles-per-population and high-quality articles for each country AND for each geographic region. By \"high quality\" articles, in this case we mean the number of articles about politicians in a given country that ORES predicted would be in either the \"FA\" (featured article) or \"GA\" (good article) classes.\n"
   ]
  },
  {
   "cell_type": "code",
   "execution_count": 333,
   "metadata": {},
   "outputs": [],
   "source": [
    "#create a dataframe with just high quality articles\n",
    "high_quality_pages = merged_data[(merged_data['article_quality_est.'] == 'FA') | (merged_data['article_quality_est.'] == 'GA') ]"
   ]
  },
  {
   "cell_type": "markdown",
   "metadata": {},
   "source": [
    "PROPORTION OF ARTICLES PER POPULATION FOR EACH COUNTRY"
   ]
  },
  {
   "cell_type": "code",
   "execution_count": 314,
   "metadata": {},
   "outputs": [
    {
     "data": {
      "text/plain": [
       "country\n",
       "Afghanistan    0.000819\n",
       "Albania        0.016068\n",
       "Algeria        0.000262\n",
       "Andorra        0.041463\n",
       "Angola         0.000326\n",
       "                 ...   \n",
       "Venezuela      0.000454\n",
       "Vietnam        0.000194\n",
       "Yemen          0.000389\n",
       "Zambia         0.000136\n",
       "Zimbabwe       0.001097\n",
       "Length: 183, dtype: float64"
      ]
     },
     "execution_count": 314,
     "metadata": {},
     "output_type": "execute_result"
    }
   ],
   "source": [
    "#country population\n",
    "country_pop = merged_data.groupby(['country'])['population'].mean()\n",
    "\n",
    "#number of articles\n",
    "page_count = merged_data.groupby(['country'])['article_name'].count()\n",
    "\n",
    "#articles per country\n",
    "pages_per_country = page_count/country_pop*100\n",
    "\n",
    "pages_per_country"
   ]
  },
  {
   "cell_type": "markdown",
   "metadata": {},
   "source": [
    "PROPORTION OF HIGH QUALITY ARTICLES PER POPULATION FOR EACH COUNTRY"
   ]
  },
  {
   "cell_type": "code",
   "execution_count": 336,
   "metadata": {},
   "outputs": [
    {
     "data": {
      "text/plain": [
       "country\n",
       "Afghanistan    0.000033\n",
       "Albania        0.000106\n",
       "Algeria        0.000005\n",
       "Argentina      0.000035\n",
       "Armenia        0.000169\n",
       "                 ...   \n",
       "Vanuatu        0.000935\n",
       "Venezuela      0.000010\n",
       "Vietnam        0.000014\n",
       "Yemen          0.000010\n",
       "Zimbabwe       0.000013\n",
       "Length: 146, dtype: float64"
      ]
     },
     "execution_count": 336,
     "metadata": {},
     "output_type": "execute_result"
    }
   ],
   "source": [
    "#country population\n",
    "high_country_pop = high_quality_pages.groupby(['country'])['population'].mean()\n",
    "\n",
    "#number of articles\n",
    "high_page_count = high_quality_pages.groupby(['country'])['article_name'].count()\n",
    "\n",
    "#articles per country\n",
    "high_pages_per_country = high_page_count/high_country_pop*100\n",
    "\n",
    "high_pages_per_country"
   ]
  },
  {
   "cell_type": "markdown",
   "metadata": {},
   "source": [
    "## Step 6: Results"
   ]
  },
  {
   "cell_type": "markdown",
   "metadata": {},
   "source": [
    "The following results are produced in the following 6 tables:\n",
    "\n",
    "- Top 10 countries by coverage: 10 highest-ranked countries in terms of number of politician articles as a proportion of country population\n",
    "- Bottom 10 countries by coverage: 10 lowest-ranked countries in terms of number of politician articles as a proportion of country population\n",
    "- Top 10 countries by relative quality: 10 highest-ranked countries in terms of the relative proportion of politician articles that are of GA and FA-quality\n",
    "- Bottom 10 countries by relative quality: 10 lowest-ranked countries in terms of the relative proportion of politician articles that are of GA and FA-quality\n",
    "- Geographic regions by coverage: Ranking of geographic regions (in descending order) in terms of the total count of politician articles from countries in each region as a proportion of total regional population\n",
    "- Geographic regions by coverage: Ranking of geographic regions (in descending order) in terms of the relative proportion of politician articles from countries in each region that are of GA and FA-quality\n"
   ]
  },
  {
   "cell_type": "code",
   "execution_count": 421,
   "metadata": {},
   "outputs": [
    {
     "data": {
      "text/html": [
       "<div>\n",
       "<style scoped>\n",
       "    .dataframe tbody tr th:only-of-type {\n",
       "        vertical-align: middle;\n",
       "    }\n",
       "\n",
       "    .dataframe tbody tr th {\n",
       "        vertical-align: top;\n",
       "    }\n",
       "\n",
       "    .dataframe thead th {\n",
       "        text-align: right;\n",
       "    }\n",
       "</style>\n",
       "<table border=\"1\" class=\"dataframe\">\n",
       "  <thead>\n",
       "    <tr style=\"text-align: right;\">\n",
       "      <th></th>\n",
       "      <th>Name</th>\n",
       "      <th>Type</th>\n",
       "      <th>TimeFrame</th>\n",
       "      <th>Data (M)</th>\n",
       "      <th>Population</th>\n",
       "    </tr>\n",
       "    <tr>\n",
       "      <th>FIPS</th>\n",
       "      <th></th>\n",
       "      <th></th>\n",
       "      <th></th>\n",
       "      <th></th>\n",
       "      <th></th>\n",
       "    </tr>\n",
       "  </thead>\n",
       "  <tbody>\n",
       "    <tr>\n",
       "      <th>AFRICA</th>\n",
       "      <td>AFRICA</td>\n",
       "      <td>Sub-Region</td>\n",
       "      <td>2019</td>\n",
       "      <td>1337.918</td>\n",
       "      <td>1337918000</td>\n",
       "    </tr>\n",
       "    <tr>\n",
       "      <th>NORTHERN AFRICA</th>\n",
       "      <td>NORTHERN AFRICA</td>\n",
       "      <td>Sub-Region</td>\n",
       "      <td>2019</td>\n",
       "      <td>244.344</td>\n",
       "      <td>244344000</td>\n",
       "    </tr>\n",
       "    <tr>\n",
       "      <th></th>\n",
       "      <td>Algeria</td>\n",
       "      <td>Country</td>\n",
       "      <td>2019</td>\n",
       "      <td>44.357</td>\n",
       "      <td>44357000</td>\n",
       "    </tr>\n",
       "    <tr>\n",
       "      <th></th>\n",
       "      <td>Egypt</td>\n",
       "      <td>Country</td>\n",
       "      <td>2019</td>\n",
       "      <td>100.803</td>\n",
       "      <td>100803000</td>\n",
       "    </tr>\n",
       "    <tr>\n",
       "      <th></th>\n",
       "      <td>Libya</td>\n",
       "      <td>Country</td>\n",
       "      <td>2019</td>\n",
       "      <td>6.891</td>\n",
       "      <td>6891000</td>\n",
       "    </tr>\n",
       "    <tr>\n",
       "      <th></th>\n",
       "      <td>Morocco</td>\n",
       "      <td>Country</td>\n",
       "      <td>2019</td>\n",
       "      <td>35.952</td>\n",
       "      <td>35952000</td>\n",
       "    </tr>\n",
       "    <tr>\n",
       "      <th></th>\n",
       "      <td>Sudan</td>\n",
       "      <td>Country</td>\n",
       "      <td>2019</td>\n",
       "      <td>43.849</td>\n",
       "      <td>43849000</td>\n",
       "    </tr>\n",
       "    <tr>\n",
       "      <th></th>\n",
       "      <td>Tunisia</td>\n",
       "      <td>Country</td>\n",
       "      <td>2019</td>\n",
       "      <td>11.896</td>\n",
       "      <td>11896000</td>\n",
       "    </tr>\n",
       "    <tr>\n",
       "      <th></th>\n",
       "      <td>Western Sahara</td>\n",
       "      <td>Country</td>\n",
       "      <td>2019</td>\n",
       "      <td>0.597</td>\n",
       "      <td>597000</td>\n",
       "    </tr>\n",
       "    <tr>\n",
       "      <th>WESTERN AFRICA</th>\n",
       "      <td>WESTERN AFRICA</td>\n",
       "      <td>Sub-Region</td>\n",
       "      <td>2019</td>\n",
       "      <td>401.115</td>\n",
       "      <td>401115000</td>\n",
       "    </tr>\n",
       "  </tbody>\n",
       "</table>\n",
       "</div>"
      ],
      "text/plain": [
       "                            Name        Type  TimeFrame  Data (M)  Population\n",
       "FIPS                                                                         \n",
       "AFRICA                    AFRICA  Sub-Region       2019  1337.918  1337918000\n",
       "NORTHERN AFRICA  NORTHERN AFRICA  Sub-Region       2019   244.344   244344000\n",
       "                         Algeria     Country       2019    44.357    44357000\n",
       "                           Egypt     Country       2019   100.803   100803000\n",
       "                           Libya     Country       2019     6.891     6891000\n",
       "                         Morocco     Country       2019    35.952    35952000\n",
       "                           Sudan     Country       2019    43.849    43849000\n",
       "                         Tunisia     Country       2019    11.896    11896000\n",
       "                  Western Sahara     Country       2019     0.597      597000\n",
       "WESTERN AFRICA    WESTERN AFRICA  Sub-Region       2019   401.115   401115000"
      ]
     },
     "execution_count": 421,
     "metadata": {},
     "output_type": "execute_result"
    }
   ],
   "source": [
    "regional_population_data_cleaned.head(10)"
   ]
  },
  {
   "cell_type": "code",
   "execution_count": 417,
   "metadata": {},
   "outputs": [
    {
     "data": {
      "text/html": [
       "<div>\n",
       "<style scoped>\n",
       "    .dataframe tbody tr th:only-of-type {\n",
       "        vertical-align: middle;\n",
       "    }\n",
       "\n",
       "    .dataframe tbody tr th {\n",
       "        vertical-align: top;\n",
       "    }\n",
       "\n",
       "    .dataframe thead th {\n",
       "        text-align: right;\n",
       "    }\n",
       "</style>\n",
       "<table border=\"1\" class=\"dataframe\">\n",
       "  <thead>\n",
       "    <tr style=\"text-align: right;\">\n",
       "      <th></th>\n",
       "      <th>FIPS</th>\n",
       "      <th>Name</th>\n",
       "      <th>Type</th>\n",
       "      <th>TimeFrame</th>\n",
       "      <th>Data (M)</th>\n",
       "      <th>Population</th>\n",
       "    </tr>\n",
       "  </thead>\n",
       "  <tbody>\n",
       "    <tr>\n",
       "      <th>0</th>\n",
       "      <td>WORLD</td>\n",
       "      <td>WORLD</td>\n",
       "      <td>World</td>\n",
       "      <td>2019</td>\n",
       "      <td>7772.850</td>\n",
       "      <td>7772850000</td>\n",
       "    </tr>\n",
       "    <tr>\n",
       "      <th>1</th>\n",
       "      <td>AFRICA</td>\n",
       "      <td>AFRICA</td>\n",
       "      <td>Sub-Region</td>\n",
       "      <td>2019</td>\n",
       "      <td>1337.918</td>\n",
       "      <td>1337918000</td>\n",
       "    </tr>\n",
       "    <tr>\n",
       "      <th>2</th>\n",
       "      <td>NORTHERN AFRICA</td>\n",
       "      <td>NORTHERN AFRICA</td>\n",
       "      <td>Sub-Region</td>\n",
       "      <td>2019</td>\n",
       "      <td>244.344</td>\n",
       "      <td>244344000</td>\n",
       "    </tr>\n",
       "    <tr>\n",
       "      <th>3</th>\n",
       "      <td>DZ</td>\n",
       "      <td>Algeria</td>\n",
       "      <td>Country</td>\n",
       "      <td>2019</td>\n",
       "      <td>44.357</td>\n",
       "      <td>44357000</td>\n",
       "    </tr>\n",
       "    <tr>\n",
       "      <th>4</th>\n",
       "      <td>EG</td>\n",
       "      <td>Egypt</td>\n",
       "      <td>Country</td>\n",
       "      <td>2019</td>\n",
       "      <td>100.803</td>\n",
       "      <td>100803000</td>\n",
       "    </tr>\n",
       "    <tr>\n",
       "      <th>5</th>\n",
       "      <td>LY</td>\n",
       "      <td>Libya</td>\n",
       "      <td>Country</td>\n",
       "      <td>2019</td>\n",
       "      <td>6.891</td>\n",
       "      <td>6891000</td>\n",
       "    </tr>\n",
       "    <tr>\n",
       "      <th>6</th>\n",
       "      <td>MA</td>\n",
       "      <td>Morocco</td>\n",
       "      <td>Country</td>\n",
       "      <td>2019</td>\n",
       "      <td>35.952</td>\n",
       "      <td>35952000</td>\n",
       "    </tr>\n",
       "    <tr>\n",
       "      <th>7</th>\n",
       "      <td>SD</td>\n",
       "      <td>Sudan</td>\n",
       "      <td>Country</td>\n",
       "      <td>2019</td>\n",
       "      <td>43.849</td>\n",
       "      <td>43849000</td>\n",
       "    </tr>\n",
       "    <tr>\n",
       "      <th>8</th>\n",
       "      <td>TN</td>\n",
       "      <td>Tunisia</td>\n",
       "      <td>Country</td>\n",
       "      <td>2019</td>\n",
       "      <td>11.896</td>\n",
       "      <td>11896000</td>\n",
       "    </tr>\n",
       "    <tr>\n",
       "      <th>9</th>\n",
       "      <td>EH</td>\n",
       "      <td>Western Sahara</td>\n",
       "      <td>Country</td>\n",
       "      <td>2019</td>\n",
       "      <td>0.597</td>\n",
       "      <td>597000</td>\n",
       "    </tr>\n",
       "  </tbody>\n",
       "</table>\n",
       "</div>"
      ],
      "text/plain": [
       "              FIPS             Name        Type  TimeFrame  Data (M)  \\\n",
       "0            WORLD            WORLD       World       2019  7772.850   \n",
       "1           AFRICA           AFRICA  Sub-Region       2019  1337.918   \n",
       "2  NORTHERN AFRICA  NORTHERN AFRICA  Sub-Region       2019   244.344   \n",
       "3               DZ          Algeria     Country       2019    44.357   \n",
       "4               EG            Egypt     Country       2019   100.803   \n",
       "5               LY            Libya     Country       2019     6.891   \n",
       "6               MA          Morocco     Country       2019    35.952   \n",
       "7               SD            Sudan     Country       2019    43.849   \n",
       "8               TN          Tunisia     Country       2019    11.896   \n",
       "9               EH   Western Sahara     Country       2019     0.597   \n",
       "\n",
       "   Population  \n",
       "0  7772850000  \n",
       "1  1337918000  \n",
       "2   244344000  \n",
       "3    44357000  \n",
       "4   100803000  \n",
       "5     6891000  \n",
       "6    35952000  \n",
       "7    43849000  \n",
       "8    11896000  \n",
       "9      597000  "
      ]
     },
     "metadata": {},
     "output_type": "display_data"
    },
    {
     "data": {
      "text/plain": [
       "(234, 6)"
      ]
     },
     "metadata": {},
     "output_type": "display_data"
    }
   ],
   "source": [
    "display(population_data.head(10))\n",
    "display(population_data.shape)"
   ]
  },
  {
   "cell_type": "code",
   "execution_count": null,
   "metadata": {},
   "outputs": [],
   "source": [
    "region_dict = {'NORTHERN AFRICA': ['Algeria',\n",
    "'Egypt',\n",
    "'Libya',\n",
    "'Morocco',\n",
    "'Sudan',\n",
    "'Tunisia', \n",
    "'Western Sahara']}\n",
    "\n",
    "regional_merged_data = merged_data[\"region\"]"
   ]
  },
  {
   "cell_type": "code",
   "execution_count": 450,
   "metadata": {},
   "outputs": [
    {
     "name": "stderr",
     "output_type": "stream",
     "text": [
      "/Users/dwightsablan/opt/anaconda3/lib/python3.8/site-packages/pandas/core/indexing.py:1720: SettingWithCopyWarning: \n",
      "A value is trying to be set on a copy of a slice from a DataFrame.\n",
      "Try using .loc[row_indexer,col_indexer] = value instead\n",
      "\n",
      "See the caveats in the documentation: https://pandas.pydata.org/pandas-docs/stable/user_guide/indexing.html#returning-a-view-versus-a-copy\n",
      "  self._setitem_single_column(loc, value, pi)\n"
     ]
    },
    {
     "data": {
      "text/plain": [
       "232"
      ]
     },
     "execution_count": 450,
     "metadata": {},
     "output_type": "execute_result"
    }
   ],
   "source": [
    "regional_population_data_cleaned_2 = population_data[population_data.FIPS != 'WORLD']\n",
    "\n",
    "regional_population_data_cleaned_2.loc[(regional_population_data_cleaned_2.FIPS.str.len() <3),'FIPS']= \"\"\n",
    "\n",
    "regional_population_data_cleaned_2 = regional_population_data_cleaned_2.dropna()\n",
    "\n",
    "regional_population_data_cleaned_2 = regional_population_data_cleaned_2.set_index(keys = 'FIPS')\n",
    "\n",
    "regional_population_data_cleaned_2\n",
    "len(regional_population_data_cleaned_2.index)"
   ]
  },
  {
   "cell_type": "code",
   "execution_count": 433,
   "metadata": {},
   "outputs": [
    {
     "name": "stderr",
     "output_type": "stream",
     "text": [
      "/Users/dwightsablan/opt/anaconda3/lib/python3.8/site-packages/pandas/core/indexing.py:1720: SettingWithCopyWarning: \n",
      "A value is trying to be set on a copy of a slice from a DataFrame.\n",
      "Try using .loc[row_indexer,col_indexer] = value instead\n",
      "\n",
      "See the caveats in the documentation: https://pandas.pydata.org/pandas-docs/stable/user_guide/indexing.html#returning-a-view-versus-a-copy\n",
      "  self._setitem_single_column(loc, value, pi)\n"
     ]
    },
    {
     "data": {
      "text/html": [
       "<div>\n",
       "<style scoped>\n",
       "    .dataframe tbody tr th:only-of-type {\n",
       "        vertical-align: middle;\n",
       "    }\n",
       "\n",
       "    .dataframe tbody tr th {\n",
       "        vertical-align: top;\n",
       "    }\n",
       "\n",
       "    .dataframe thead th {\n",
       "        text-align: right;\n",
       "    }\n",
       "</style>\n",
       "<table border=\"1\" class=\"dataframe\">\n",
       "  <thead>\n",
       "    <tr style=\"text-align: right;\">\n",
       "      <th></th>\n",
       "      <th>Name</th>\n",
       "      <th>Type</th>\n",
       "      <th>TimeFrame</th>\n",
       "      <th>Data (M)</th>\n",
       "      <th>Population</th>\n",
       "    </tr>\n",
       "    <tr>\n",
       "      <th>FIPS</th>\n",
       "      <th></th>\n",
       "      <th></th>\n",
       "      <th></th>\n",
       "      <th></th>\n",
       "      <th></th>\n",
       "    </tr>\n",
       "  </thead>\n",
       "  <tbody>\n",
       "    <tr>\n",
       "      <th>AFRICA</th>\n",
       "      <td>AFRICA</td>\n",
       "      <td>Sub-Region</td>\n",
       "      <td>2019</td>\n",
       "      <td>1337.918</td>\n",
       "      <td>1337918000</td>\n",
       "    </tr>\n",
       "    <tr>\n",
       "      <th>NORTHERN AFRICA</th>\n",
       "      <td>NORTHERN AFRICA</td>\n",
       "      <td>Sub-Region</td>\n",
       "      <td>2019</td>\n",
       "      <td>244.344</td>\n",
       "      <td>244344000</td>\n",
       "    </tr>\n",
       "    <tr>\n",
       "      <th>WESTERN AFRICA</th>\n",
       "      <td>WESTERN AFRICA</td>\n",
       "      <td>Sub-Region</td>\n",
       "      <td>2019</td>\n",
       "      <td>401.115</td>\n",
       "      <td>401115000</td>\n",
       "    </tr>\n",
       "    <tr>\n",
       "      <th>EASTERN AFRICA</th>\n",
       "      <td>EASTERN AFRICA</td>\n",
       "      <td>Sub-Region</td>\n",
       "      <td>2019</td>\n",
       "      <td>444.970</td>\n",
       "      <td>444970000</td>\n",
       "    </tr>\n",
       "    <tr>\n",
       "      <th>MIDDLE AFRICA</th>\n",
       "      <td>MIDDLE AFRICA</td>\n",
       "      <td>Sub-Region</td>\n",
       "      <td>2019</td>\n",
       "      <td>179.757</td>\n",
       "      <td>179757000</td>\n",
       "    </tr>\n",
       "  </tbody>\n",
       "</table>\n",
       "</div>"
      ],
      "text/plain": [
       "                            Name        Type  TimeFrame  Data (M)  Population\n",
       "FIPS                                                                         \n",
       "AFRICA                    AFRICA  Sub-Region       2019  1337.918  1337918000\n",
       "NORTHERN AFRICA  NORTHERN AFRICA  Sub-Region       2019   244.344   244344000\n",
       "WESTERN AFRICA    WESTERN AFRICA  Sub-Region       2019   401.115   401115000\n",
       "EASTERN AFRICA    EASTERN AFRICA  Sub-Region       2019   444.970   444970000\n",
       "MIDDLE AFRICA      MIDDLE AFRICA  Sub-Region       2019   179.757   179757000"
      ]
     },
     "execution_count": 433,
     "metadata": {},
     "output_type": "execute_result"
    }
   ],
   "source": [
    "#filter out WORLD, countries, in FIPS and set index to FIPS\n",
    "regional_population_data_cleaned = population_data[population_data.FIPS != 'WORLD']\n",
    "\n",
    "regional_population_data_cleaned.loc[(regional_population_data_cleaned.FIPS.str.len() <3),'FIPS']= None\n",
    "\n",
    "regional_population_data_cleaned = regional_population_data_cleaned.set_index(keys = 'FIPS')\n",
    "\n",
    "regional_population_data_cleaned = regional_population_data_cleaned[regional_population_data_cleaned.index.notnull()]\n",
    "\n",
    "regional_population_data_cleaned.head()\n"
   ]
  },
  {
   "cell_type": "code",
   "execution_count": 415,
   "metadata": {},
   "outputs": [
    {
     "data": {
      "text/plain": [
       "Index(['AFRICA', 'NORTHERN AFRICA', '', '', '', '', '', '', '',\n",
       "       'WESTERN AFRICA',\n",
       "       ...\n",
       "       '', '', '', '', '', '', '', '', '', ''],\n",
       "      dtype='object', name='FIPS', length=232)"
      ]
     },
     "execution_count": 415,
     "metadata": {},
     "output_type": "execute_result"
    }
   ],
   "source": [
    "regional_population_data_cleaned.index"
   ]
  },
  {
   "cell_type": "markdown",
   "metadata": {},
   "source": [
    "#### Top 10 countries by coverage"
   ]
  },
  {
   "cell_type": "code",
   "execution_count": 339,
   "metadata": {},
   "outputs": [
    {
     "data": {
      "text/plain": [
       "country\n",
       "Tuvalu                            0.540000\n",
       "Nauru                             0.472727\n",
       "San Marino                        0.238235\n",
       "Monaco                            0.105263\n",
       "Liechtenstein                     0.071795\n",
       "Marshall Islands                  0.064912\n",
       "Tonga                             0.063636\n",
       "Iceland                           0.054620\n",
       "Andorra                           0.041463\n",
       "Federated States of Micronesia    0.033962\n",
       "dtype: float64"
      ]
     },
     "execution_count": 339,
     "metadata": {},
     "output_type": "execute_result"
    }
   ],
   "source": [
    "top_ten_pages_per_country = pages_per_country.sort_values(ascending=False)[0:10]\n",
    "\n",
    "top_ten_pages_per_country"
   ]
  },
  {
   "cell_type": "markdown",
   "metadata": {},
   "source": [
    "#### Bottom 10 countries by coverage"
   ]
  },
  {
   "cell_type": "code",
   "execution_count": 341,
   "metadata": {},
   "outputs": [
    {
     "data": {
      "text/plain": [
       "country\n",
       "India           0.000069\n",
       "Indonesia       0.000077\n",
       "China           0.000081\n",
       "Uzbekistan      0.000082\n",
       "Ethiopia        0.000088\n",
       "Zambia          0.000136\n",
       "Korea, North    0.000140\n",
       "Thailand        0.000168\n",
       "Mozambique      0.000186\n",
       "Bangladesh      0.000187\n",
       "dtype: float64"
      ]
     },
     "execution_count": 341,
     "metadata": {},
     "output_type": "execute_result"
    }
   ],
   "source": [
    "bottom_ten_pages_per_country = pages_per_country.sort_values(ascending=True)[0:10]\n",
    "\n",
    "bottom_ten_pages_per_country"
   ]
  },
  {
   "cell_type": "markdown",
   "metadata": {},
   "source": [
    "#### Top 10 countries by relative quality"
   ]
  },
  {
   "cell_type": "code",
   "execution_count": 342,
   "metadata": {},
   "outputs": [
    {
     "data": {
      "text/plain": [
       "country\n",
       "Tuvalu         0.040000\n",
       "Dominica       0.001389\n",
       "Vanuatu        0.000935\n",
       "Iceland        0.000543\n",
       "Ireland        0.000500\n",
       "Montenegro     0.000322\n",
       "Martinique     0.000281\n",
       "Bhutan         0.000274\n",
       "New Zealand    0.000261\n",
       "Romania        0.000218\n",
       "dtype: float64"
      ]
     },
     "execution_count": 342,
     "metadata": {},
     "output_type": "execute_result"
    }
   ],
   "source": [
    "top_ten_high_pages_per_country = high_pages_per_country.sort_values(ascending=False)[0:10]\n",
    "\n",
    "top_ten_high_pages_per_country"
   ]
  },
  {
   "cell_type": "markdown",
   "metadata": {},
   "source": [
    "#### Bottom 10 countries by relative quality"
   ]
  },
  {
   "cell_type": "code",
   "execution_count": 343,
   "metadata": {},
   "outputs": [
    {
     "data": {
      "text/plain": [
       "country\n",
       "India         9.285051e-07\n",
       "Nigeria       9.702144e-07\n",
       "Tanzania      1.674088e-06\n",
       "Ethiopia      1.740402e-06\n",
       "Bangladesh    1.766691e-06\n",
       "Colombia      2.022490e-06\n",
       "Uganda        2.186222e-06\n",
       "Morocco       2.781486e-06\n",
       "Brazil        2.832701e-06\n",
       "China         2.852284e-06\n",
       "dtype: float64"
      ]
     },
     "execution_count": 343,
     "metadata": {},
     "output_type": "execute_result"
    }
   ],
   "source": [
    "top_ten_high_pages_per_country = high_pages_per_country.sort_values(ascending=True)[0:10]\n",
    "\n",
    "top_ten_high_pages_per_country"
   ]
  },
  {
   "cell_type": "markdown",
   "metadata": {},
   "source": [
    "### Step 7: Writeup: Reflections and Implications"
   ]
  },
  {
   "cell_type": "markdown",
   "metadata": {},
   "source": [
    "Write a few paragraphs, either in the README or at the end of the notebook, reflecting on what you have learned, what you found, what (if anything) surprised you about your findings, and/or what theories you have about why any biases might exist (if you find they exist). You can also include any questions this assignment raised for you about bias, Wikipedia, or machine learning."
   ]
  },
  {
   "cell_type": "markdown",
   "metadata": {},
   "source": [
    "One thing that didn't surpirse me about the findings is that the top 10 countries by coverage "
   ]
  },
  {
   "cell_type": "code",
   "execution_count": null,
   "metadata": {},
   "outputs": [],
   "source": []
  },
  {
   "cell_type": "code",
   "execution_count": null,
   "metadata": {},
   "outputs": [],
   "source": []
  },
  {
   "cell_type": "code",
   "execution_count": null,
   "metadata": {},
   "outputs": [],
   "source": []
  },
  {
   "cell_type": "code",
   "execution_count": null,
   "metadata": {},
   "outputs": [],
   "source": []
  }
 ],
 "metadata": {
  "kernelspec": {
   "display_name": "Python 3",
   "language": "python",
   "name": "python3"
  },
  "language_info": {
   "codemirror_mode": {
    "name": "ipython",
    "version": 3
   },
   "file_extension": ".py",
   "mimetype": "text/x-python",
   "name": "python",
   "nbconvert_exporter": "python",
   "pygments_lexer": "ipython3",
   "version": "3.8.3"
  }
 },
 "nbformat": 4,
 "nbformat_minor": 4
}
